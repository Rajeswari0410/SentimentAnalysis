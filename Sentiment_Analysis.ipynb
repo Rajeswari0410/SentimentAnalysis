{
  "cells": [
    {
      "cell_type": "markdown",
      "metadata": {
        "id": "K9TCOJrHnemu"
      },
      "source": [
        "# **Sentiment Analysis**"
      ]
    },
    {
      "cell_type": "code",
      "execution_count": 3,
      "metadata": {
        "id": "MQ3ydXa_nj9A"
      },
      "outputs": [],
      "source": [
        "#Import Libraries\n",
        "import pandas as pd\n",
        "import numpy as np\n",
        "import nltk\n",
        "import re\n",
        "from nltk.corpus import stopwords\n",
        "from nltk.tokenize import word_tokenize\n",
        "from sklearn.preprocessing import OneHotEncoder\n",
        "import torch\n",
        "import math\n",
        "from torch import nn\n",
        "import torch.nn.functional as F\n",
        "import torch.optim as optim\n",
        "from torch.utils.data import DataLoader, TensorDataset\n",
        "from sklearn.model_selection import train_test_split\n",
        "from tqdm import tqdm"
      ]
    },
    {
      "cell_type": "code",
      "execution_count": 4,
      "metadata": {
        "colab": {
          "base_uri": "https://localhost:8080/"
        },
        "id": "6sCcBHAqqROU",
        "outputId": "6ec9dfc1-3f7e-49eb-f92e-768a694157aa"
      },
      "outputs": [
        {
          "name": "stdout",
          "output_type": "stream",
          "text": [
            "Mounted at /content/drive/\n"
          ]
        }
      ],
      "source": [
        "# Mount drive to load data\n",
        "from google.colab import drive\n",
        "drive.mount('/content/drive/')"
      ]
    },
    {
      "cell_type": "code",
      "execution_count": 5,
      "metadata": {
        "colab": {
          "base_uri": "https://localhost:8080/",
          "height": 206
        },
        "id": "rBQzAHnTp03q",
        "outputId": "a9539963-bd9b-4297-ae85-0362c600589d"
      },
      "outputs": [
        {
          "data": {
            "text/html": [
              "\n",
              "  <div id=\"df-423385fe-6d88-47e8-8d55-d3810462e947\" class=\"colab-df-container\">\n",
              "    <div>\n",
              "<style scoped>\n",
              "    .dataframe tbody tr th:only-of-type {\n",
              "        vertical-align: middle;\n",
              "    }\n",
              "\n",
              "    .dataframe tbody tr th {\n",
              "        vertical-align: top;\n",
              "    }\n",
              "\n",
              "    .dataframe thead th {\n",
              "        text-align: right;\n",
              "    }\n",
              "</style>\n",
              "<table border=\"1\" class=\"dataframe\">\n",
              "  <thead>\n",
              "    <tr style=\"text-align: right;\">\n",
              "      <th></th>\n",
              "      <th>text</th>\n",
              "      <th>stars</th>\n",
              "    </tr>\n",
              "  </thead>\n",
              "  <tbody>\n",
              "    <tr>\n",
              "      <th>117921</th>\n",
              "      <td>This was a tough one.  After having heard good...</td>\n",
              "      <td>3.0</td>\n",
              "    </tr>\n",
              "    <tr>\n",
              "      <th>117777</th>\n",
              "      <td>I have been here probably 3 times in the last ...</td>\n",
              "      <td>3.0</td>\n",
              "    </tr>\n",
              "    <tr>\n",
              "      <th>172811</th>\n",
              "      <td>I don't usually do chain restaurants, but I st...</td>\n",
              "      <td>4.0</td>\n",
              "    </tr>\n",
              "    <tr>\n",
              "      <th>63245</th>\n",
              "      <td>This place is just out there... There main onl...</td>\n",
              "      <td>1.0</td>\n",
              "    </tr>\n",
              "    <tr>\n",
              "      <th>87607</th>\n",
              "      <td>Went here for Happy Hour one evening. Twas a g...</td>\n",
              "      <td>4.0</td>\n",
              "    </tr>\n",
              "  </tbody>\n",
              "</table>\n",
              "</div>\n",
              "    <div class=\"colab-df-buttons\">\n",
              "\n",
              "  <div class=\"colab-df-container\">\n",
              "    <button class=\"colab-df-convert\" onclick=\"convertToInteractive('df-423385fe-6d88-47e8-8d55-d3810462e947')\"\n",
              "            title=\"Convert this dataframe to an interactive table.\"\n",
              "            style=\"display:none;\">\n",
              "\n",
              "  <svg xmlns=\"http://www.w3.org/2000/svg\" height=\"24px\" viewBox=\"0 -960 960 960\">\n",
              "    <path d=\"M120-120v-720h720v720H120Zm60-500h600v-160H180v160Zm220 220h160v-160H400v160Zm0 220h160v-160H400v160ZM180-400h160v-160H180v160Zm440 0h160v-160H620v160ZM180-180h160v-160H180v160Zm440 0h160v-160H620v160Z\"/>\n",
              "  </svg>\n",
              "    </button>\n",
              "\n",
              "  <style>\n",
              "    .colab-df-container {\n",
              "      display:flex;\n",
              "      gap: 12px;\n",
              "    }\n",
              "\n",
              "    .colab-df-convert {\n",
              "      background-color: #E8F0FE;\n",
              "      border: none;\n",
              "      border-radius: 50%;\n",
              "      cursor: pointer;\n",
              "      display: none;\n",
              "      fill: #1967D2;\n",
              "      height: 32px;\n",
              "      padding: 0 0 0 0;\n",
              "      width: 32px;\n",
              "    }\n",
              "\n",
              "    .colab-df-convert:hover {\n",
              "      background-color: #E2EBFA;\n",
              "      box-shadow: 0px 1px 2px rgba(60, 64, 67, 0.3), 0px 1px 3px 1px rgba(60, 64, 67, 0.15);\n",
              "      fill: #174EA6;\n",
              "    }\n",
              "\n",
              "    .colab-df-buttons div {\n",
              "      margin-bottom: 4px;\n",
              "    }\n",
              "\n",
              "    [theme=dark] .colab-df-convert {\n",
              "      background-color: #3B4455;\n",
              "      fill: #D2E3FC;\n",
              "    }\n",
              "\n",
              "    [theme=dark] .colab-df-convert:hover {\n",
              "      background-color: #434B5C;\n",
              "      box-shadow: 0px 1px 3px 1px rgba(0, 0, 0, 0.15);\n",
              "      filter: drop-shadow(0px 1px 2px rgba(0, 0, 0, 0.3));\n",
              "      fill: #FFFFFF;\n",
              "    }\n",
              "  </style>\n",
              "\n",
              "    <script>\n",
              "      const buttonEl =\n",
              "        document.querySelector('#df-423385fe-6d88-47e8-8d55-d3810462e947 button.colab-df-convert');\n",
              "      buttonEl.style.display =\n",
              "        google.colab.kernel.accessAllowed ? 'block' : 'none';\n",
              "\n",
              "      async function convertToInteractive(key) {\n",
              "        const element = document.querySelector('#df-423385fe-6d88-47e8-8d55-d3810462e947');\n",
              "        const dataTable =\n",
              "          await google.colab.kernel.invokeFunction('convertToInteractive',\n",
              "                                                    [key], {});\n",
              "        if (!dataTable) return;\n",
              "\n",
              "        const docLinkHtml = 'Like what you see? Visit the ' +\n",
              "          '<a target=\"_blank\" href=https://colab.research.google.com/notebooks/data_table.ipynb>data table notebook</a>'\n",
              "          + ' to learn more about interactive tables.';\n",
              "        element.innerHTML = '';\n",
              "        dataTable['output_type'] = 'display_data';\n",
              "        await google.colab.output.renderOutput(dataTable, element);\n",
              "        const docLink = document.createElement('div');\n",
              "        docLink.innerHTML = docLinkHtml;\n",
              "        element.appendChild(docLink);\n",
              "      }\n",
              "    </script>\n",
              "  </div>\n",
              "\n",
              "\n",
              "<div id=\"df-54e9d9cb-ac45-448a-827b-957c0fd0c86a\">\n",
              "  <button class=\"colab-df-quickchart\" onclick=\"quickchart('df-54e9d9cb-ac45-448a-827b-957c0fd0c86a')\"\n",
              "            title=\"Suggest charts\"\n",
              "            style=\"display:none;\">\n",
              "\n",
              "<svg xmlns=\"http://www.w3.org/2000/svg\" height=\"24px\"viewBox=\"0 0 24 24\"\n",
              "     width=\"24px\">\n",
              "    <g>\n",
              "        <path d=\"M19 3H5c-1.1 0-2 .9-2 2v14c0 1.1.9 2 2 2h14c1.1 0 2-.9 2-2V5c0-1.1-.9-2-2-2zM9 17H7v-7h2v7zm4 0h-2V7h2v10zm4 0h-2v-4h2v4z\"/>\n",
              "    </g>\n",
              "</svg>\n",
              "  </button>\n",
              "\n",
              "<style>\n",
              "  .colab-df-quickchart {\n",
              "      --bg-color: #E8F0FE;\n",
              "      --fill-color: #1967D2;\n",
              "      --hover-bg-color: #E2EBFA;\n",
              "      --hover-fill-color: #174EA6;\n",
              "      --disabled-fill-color: #AAA;\n",
              "      --disabled-bg-color: #DDD;\n",
              "  }\n",
              "\n",
              "  [theme=dark] .colab-df-quickchart {\n",
              "      --bg-color: #3B4455;\n",
              "      --fill-color: #D2E3FC;\n",
              "      --hover-bg-color: #434B5C;\n",
              "      --hover-fill-color: #FFFFFF;\n",
              "      --disabled-bg-color: #3B4455;\n",
              "      --disabled-fill-color: #666;\n",
              "  }\n",
              "\n",
              "  .colab-df-quickchart {\n",
              "    background-color: var(--bg-color);\n",
              "    border: none;\n",
              "    border-radius: 50%;\n",
              "    cursor: pointer;\n",
              "    display: none;\n",
              "    fill: var(--fill-color);\n",
              "    height: 32px;\n",
              "    padding: 0;\n",
              "    width: 32px;\n",
              "  }\n",
              "\n",
              "  .colab-df-quickchart:hover {\n",
              "    background-color: var(--hover-bg-color);\n",
              "    box-shadow: 0 1px 2px rgba(60, 64, 67, 0.3), 0 1px 3px 1px rgba(60, 64, 67, 0.15);\n",
              "    fill: var(--button-hover-fill-color);\n",
              "  }\n",
              "\n",
              "  .colab-df-quickchart-complete:disabled,\n",
              "  .colab-df-quickchart-complete:disabled:hover {\n",
              "    background-color: var(--disabled-bg-color);\n",
              "    fill: var(--disabled-fill-color);\n",
              "    box-shadow: none;\n",
              "  }\n",
              "\n",
              "  .colab-df-spinner {\n",
              "    border: 2px solid var(--fill-color);\n",
              "    border-color: transparent;\n",
              "    border-bottom-color: var(--fill-color);\n",
              "    animation:\n",
              "      spin 1s steps(1) infinite;\n",
              "  }\n",
              "\n",
              "  @keyframes spin {\n",
              "    0% {\n",
              "      border-color: transparent;\n",
              "      border-bottom-color: var(--fill-color);\n",
              "      border-left-color: var(--fill-color);\n",
              "    }\n",
              "    20% {\n",
              "      border-color: transparent;\n",
              "      border-left-color: var(--fill-color);\n",
              "      border-top-color: var(--fill-color);\n",
              "    }\n",
              "    30% {\n",
              "      border-color: transparent;\n",
              "      border-left-color: var(--fill-color);\n",
              "      border-top-color: var(--fill-color);\n",
              "      border-right-color: var(--fill-color);\n",
              "    }\n",
              "    40% {\n",
              "      border-color: transparent;\n",
              "      border-right-color: var(--fill-color);\n",
              "      border-top-color: var(--fill-color);\n",
              "    }\n",
              "    60% {\n",
              "      border-color: transparent;\n",
              "      border-right-color: var(--fill-color);\n",
              "    }\n",
              "    80% {\n",
              "      border-color: transparent;\n",
              "      border-right-color: var(--fill-color);\n",
              "      border-bottom-color: var(--fill-color);\n",
              "    }\n",
              "    90% {\n",
              "      border-color: transparent;\n",
              "      border-bottom-color: var(--fill-color);\n",
              "    }\n",
              "  }\n",
              "</style>\n",
              "\n",
              "  <script>\n",
              "    async function quickchart(key) {\n",
              "      const quickchartButtonEl =\n",
              "        document.querySelector('#' + key + ' button');\n",
              "      quickchartButtonEl.disabled = true;  // To prevent multiple clicks.\n",
              "      quickchartButtonEl.classList.add('colab-df-spinner');\n",
              "      try {\n",
              "        const charts = await google.colab.kernel.invokeFunction(\n",
              "            'suggestCharts', [key], {});\n",
              "      } catch (error) {\n",
              "        console.error('Error during call to suggestCharts:', error);\n",
              "      }\n",
              "      quickchartButtonEl.classList.remove('colab-df-spinner');\n",
              "      quickchartButtonEl.classList.add('colab-df-quickchart-complete');\n",
              "    }\n",
              "    (() => {\n",
              "      let quickchartButtonEl =\n",
              "        document.querySelector('#df-54e9d9cb-ac45-448a-827b-957c0fd0c86a button');\n",
              "      quickchartButtonEl.style.display =\n",
              "        google.colab.kernel.accessAllowed ? 'block' : 'none';\n",
              "    })();\n",
              "  </script>\n",
              "</div>\n",
              "\n",
              "    </div>\n",
              "  </div>\n"
            ],
            "text/plain": [
              "                                                     text  stars\n",
              "117921  This was a tough one.  After having heard good...    3.0\n",
              "117777  I have been here probably 3 times in the last ...    3.0\n",
              "172811  I don't usually do chain restaurants, but I st...    4.0\n",
              "63245   This place is just out there... There main onl...    1.0\n",
              "87607   Went here for Happy Hour one evening. Twas a g...    4.0"
            ]
          },
          "execution_count": 5,
          "metadata": {},
          "output_type": "execute_result"
        }
      ],
      "source": [
        "# Load data\n",
        "subset_size = 100000\n",
        "train_data = pd.read_csv(\"/content/drive/My Drive/ML/yelp_review_train.csv\").sample(subset_size, random_state=42)\n",
        "test_data = pd.read_csv(\"/content/drive/My Drive/ML/yelp_review_test.csv\")\n",
        "train_data.head()"
      ]
    },
    {
      "cell_type": "markdown",
      "metadata": {
        "id": "LrabMbF3puAs"
      },
      "source": [
        "Data pre-processing: Pre-process the data by removing the punctuation and\n",
        "stopwords and converting all words to lowercase. Moreover, converting the stars into three levels:\n",
        "Positive > 3, negative <= 2, and neutral = 3. Finally,\n",
        "Note: You can use the nltk library from here: htps://www.nltk.org/ to remove stop words. The regular expression may be helpful."
      ]
    },
    {
      "cell_type": "code",
      "execution_count": 6,
      "metadata": {
        "colab": {
          "base_uri": "https://localhost:8080/"
        },
        "id": "0nM88WS5ujhG",
        "outputId": "4353905b-fd81-41dc-b122-48b1a979ca69"
      },
      "outputs": [
        {
          "name": "stderr",
          "output_type": "stream",
          "text": [
            "[nltk_data] Downloading package stopwords to /root/nltk_data...\n",
            "[nltk_data]   Unzipping corpora/stopwords.zip.\n",
            "[nltk_data] Downloading package punkt to /root/nltk_data...\n",
            "[nltk_data]   Unzipping tokenizers/punkt.zip.\n"
          ]
        },
        {
          "data": {
            "text/plain": [
              "True"
            ]
          },
          "execution_count": 6,
          "metadata": {},
          "output_type": "execute_result"
        }
      ],
      "source": [
        "nltk.download('stopwords')\n",
        "nltk.download('punkt')"
      ]
    },
    {
      "cell_type": "code",
      "execution_count": 7,
      "metadata": {
        "colab": {
          "base_uri": "https://localhost:8080/"
        },
        "id": "bez3x7LSo8ul",
        "outputId": "ffb18047-384d-41d6-97ee-9ef934693de2"
      },
      "outputs": [
        {
          "name": "stdout",
          "output_type": "stream",
          "text": [
            "                                                     text  \\\n",
            "117921  This was a tough one.  After having heard good...   \n",
            "117777  I have been here probably 3 times in the last ...   \n",
            "172811  I don't usually do chain restaurants, but I st...   \n",
            "63245   This place is just out there... There main onl...   \n",
            "87607   Went here for Happy Hour one evening. Twas a g...   \n",
            "\n",
            "                                           processed_text  stars     class  \n",
            "117921  tough one heard good things several people per...    3.0   neutral  \n",
            "117777  probably 3 times last 4 years huge variety men...    3.0   neutral  \n",
            "172811  dont usually chain restaurants stopped quick b...    4.0  positive  \n",
            "63245   place main online platform deals go together t...    1.0  negative  \n",
            "87607   went happy hour one evening twas good time men...    4.0  positive  \n"
          ]
        }
      ],
      "source": [
        "# Define a function for text preprocessing\n",
        "def preprocess_text(text):\n",
        "    # Convert to lowercase\n",
        "    text = text.lower()\n",
        "    # Remove punctuation using regex\n",
        "    text = re.sub(r'[^\\w\\s]', '', text)\n",
        "    # Tokenize the text\n",
        "    words = word_tokenize(text)\n",
        "    # Remove stopwords\n",
        "    stop_words = set(stopwords.words('english'))\n",
        "    words = [word for word in words if word not in stop_words]\n",
        "    # Join the processed words back into a sentence\n",
        "    processed_text = ' '.join(words)\n",
        "    return processed_text\n",
        "\n",
        "# Apply the preprocessing function to the 'text' column\n",
        "train_data['processed_text'] = train_data['text'].apply(preprocess_text)\n",
        "test_data['processed_text'] = test_data['text'].apply(preprocess_text)\n",
        "\n",
        "def classify_stars(stars):\n",
        "    if stars == 3:\n",
        "        return 'neutral'\n",
        "    elif stars < 3:\n",
        "        return 'negative'\n",
        "    else:\n",
        "        return 'positive'\n",
        "\n",
        "# Apply the custom function to create the 'class' column\n",
        "train_data['class'] = train_data['stars'].apply(classify_stars)\n",
        "test_data['class'] = test_data['stars'].apply(classify_stars)\n",
        "\n",
        "# Print the processed data\n",
        "print(train_data[['text', 'processed_text', 'stars', 'class']].head())"
      ]
    },
    {
      "cell_type": "code",
      "execution_count": 8,
      "metadata": {
        "colab": {
          "base_uri": "https://localhost:8080/",
          "height": 206
        },
        "id": "8czRJ7w8xu4N",
        "outputId": "8ebbd1de-345c-4a5c-bb78-1daac492b7e5"
      },
      "outputs": [
        {
          "data": {
            "text/html": [
              "\n",
              "  <div id=\"df-19e05238-efc0-42c2-af6b-134577d4cf9e\" class=\"colab-df-container\">\n",
              "    <div>\n",
              "<style scoped>\n",
              "    .dataframe tbody tr th:only-of-type {\n",
              "        vertical-align: middle;\n",
              "    }\n",
              "\n",
              "    .dataframe tbody tr th {\n",
              "        vertical-align: top;\n",
              "    }\n",
              "\n",
              "    .dataframe thead th {\n",
              "        text-align: right;\n",
              "    }\n",
              "</style>\n",
              "<table border=\"1\" class=\"dataframe\">\n",
              "  <thead>\n",
              "    <tr style=\"text-align: right;\">\n",
              "      <th></th>\n",
              "      <th>text</th>\n",
              "      <th>stars</th>\n",
              "      <th>processed_text</th>\n",
              "      <th>class</th>\n",
              "    </tr>\n",
              "  </thead>\n",
              "  <tbody>\n",
              "    <tr>\n",
              "      <th>0</th>\n",
              "      <td>Hidden treasure! Awesome service, delicious fo...</td>\n",
              "      <td>5.0</td>\n",
              "      <td>hidden treasure awesome service delicious food...</td>\n",
              "      <td>positive</td>\n",
              "    </tr>\n",
              "    <tr>\n",
              "      <th>1</th>\n",
              "      <td>My family and I have been patients since I  wa...</td>\n",
              "      <td>5.0</td>\n",
              "      <td>family patients since 5 years old 34 trust qua...</td>\n",
              "      <td>positive</td>\n",
              "    </tr>\n",
              "    <tr>\n",
              "      <th>2</th>\n",
              "      <td>I rarely get pedicures, but Blue Nail's practi...</td>\n",
              "      <td>5.0</td>\n",
              "      <td>rarely get pedicures blue nails practice combi...</td>\n",
              "      <td>positive</td>\n",
              "    </tr>\n",
              "    <tr>\n",
              "      <th>3</th>\n",
              "      <td>We came with a large group, may of the items w...</td>\n",
              "      <td>2.0</td>\n",
              "      <td>came large group may items missing menu lobste...</td>\n",
              "      <td>negative</td>\n",
              "    </tr>\n",
              "    <tr>\n",
              "      <th>4</th>\n",
              "      <td>The view is great from Morgan's Pier. The bart...</td>\n",
              "      <td>2.0</td>\n",
              "      <td>view great morgans pier bartenders even good s...</td>\n",
              "      <td>negative</td>\n",
              "    </tr>\n",
              "  </tbody>\n",
              "</table>\n",
              "</div>\n",
              "    <div class=\"colab-df-buttons\">\n",
              "\n",
              "  <div class=\"colab-df-container\">\n",
              "    <button class=\"colab-df-convert\" onclick=\"convertToInteractive('df-19e05238-efc0-42c2-af6b-134577d4cf9e')\"\n",
              "            title=\"Convert this dataframe to an interactive table.\"\n",
              "            style=\"display:none;\">\n",
              "\n",
              "  <svg xmlns=\"http://www.w3.org/2000/svg\" height=\"24px\" viewBox=\"0 -960 960 960\">\n",
              "    <path d=\"M120-120v-720h720v720H120Zm60-500h600v-160H180v160Zm220 220h160v-160H400v160Zm0 220h160v-160H400v160ZM180-400h160v-160H180v160Zm440 0h160v-160H620v160ZM180-180h160v-160H180v160Zm440 0h160v-160H620v160Z\"/>\n",
              "  </svg>\n",
              "    </button>\n",
              "\n",
              "  <style>\n",
              "    .colab-df-container {\n",
              "      display:flex;\n",
              "      gap: 12px;\n",
              "    }\n",
              "\n",
              "    .colab-df-convert {\n",
              "      background-color: #E8F0FE;\n",
              "      border: none;\n",
              "      border-radius: 50%;\n",
              "      cursor: pointer;\n",
              "      display: none;\n",
              "      fill: #1967D2;\n",
              "      height: 32px;\n",
              "      padding: 0 0 0 0;\n",
              "      width: 32px;\n",
              "    }\n",
              "\n",
              "    .colab-df-convert:hover {\n",
              "      background-color: #E2EBFA;\n",
              "      box-shadow: 0px 1px 2px rgba(60, 64, 67, 0.3), 0px 1px 3px 1px rgba(60, 64, 67, 0.15);\n",
              "      fill: #174EA6;\n",
              "    }\n",
              "\n",
              "    .colab-df-buttons div {\n",
              "      margin-bottom: 4px;\n",
              "    }\n",
              "\n",
              "    [theme=dark] .colab-df-convert {\n",
              "      background-color: #3B4455;\n",
              "      fill: #D2E3FC;\n",
              "    }\n",
              "\n",
              "    [theme=dark] .colab-df-convert:hover {\n",
              "      background-color: #434B5C;\n",
              "      box-shadow: 0px 1px 3px 1px rgba(0, 0, 0, 0.15);\n",
              "      filter: drop-shadow(0px 1px 2px rgba(0, 0, 0, 0.3));\n",
              "      fill: #FFFFFF;\n",
              "    }\n",
              "  </style>\n",
              "\n",
              "    <script>\n",
              "      const buttonEl =\n",
              "        document.querySelector('#df-19e05238-efc0-42c2-af6b-134577d4cf9e button.colab-df-convert');\n",
              "      buttonEl.style.display =\n",
              "        google.colab.kernel.accessAllowed ? 'block' : 'none';\n",
              "\n",
              "      async function convertToInteractive(key) {\n",
              "        const element = document.querySelector('#df-19e05238-efc0-42c2-af6b-134577d4cf9e');\n",
              "        const dataTable =\n",
              "          await google.colab.kernel.invokeFunction('convertToInteractive',\n",
              "                                                    [key], {});\n",
              "        if (!dataTable) return;\n",
              "\n",
              "        const docLinkHtml = 'Like what you see? Visit the ' +\n",
              "          '<a target=\"_blank\" href=https://colab.research.google.com/notebooks/data_table.ipynb>data table notebook</a>'\n",
              "          + ' to learn more about interactive tables.';\n",
              "        element.innerHTML = '';\n",
              "        dataTable['output_type'] = 'display_data';\n",
              "        await google.colab.output.renderOutput(dataTable, element);\n",
              "        const docLink = document.createElement('div');\n",
              "        docLink.innerHTML = docLinkHtml;\n",
              "        element.appendChild(docLink);\n",
              "      }\n",
              "    </script>\n",
              "  </div>\n",
              "\n",
              "\n",
              "<div id=\"df-36c71b31-1f73-4808-b543-ec36319a665c\">\n",
              "  <button class=\"colab-df-quickchart\" onclick=\"quickchart('df-36c71b31-1f73-4808-b543-ec36319a665c')\"\n",
              "            title=\"Suggest charts\"\n",
              "            style=\"display:none;\">\n",
              "\n",
              "<svg xmlns=\"http://www.w3.org/2000/svg\" height=\"24px\"viewBox=\"0 0 24 24\"\n",
              "     width=\"24px\">\n",
              "    <g>\n",
              "        <path d=\"M19 3H5c-1.1 0-2 .9-2 2v14c0 1.1.9 2 2 2h14c1.1 0 2-.9 2-2V5c0-1.1-.9-2-2-2zM9 17H7v-7h2v7zm4 0h-2V7h2v10zm4 0h-2v-4h2v4z\"/>\n",
              "    </g>\n",
              "</svg>\n",
              "  </button>\n",
              "\n",
              "<style>\n",
              "  .colab-df-quickchart {\n",
              "      --bg-color: #E8F0FE;\n",
              "      --fill-color: #1967D2;\n",
              "      --hover-bg-color: #E2EBFA;\n",
              "      --hover-fill-color: #174EA6;\n",
              "      --disabled-fill-color: #AAA;\n",
              "      --disabled-bg-color: #DDD;\n",
              "  }\n",
              "\n",
              "  [theme=dark] .colab-df-quickchart {\n",
              "      --bg-color: #3B4455;\n",
              "      --fill-color: #D2E3FC;\n",
              "      --hover-bg-color: #434B5C;\n",
              "      --hover-fill-color: #FFFFFF;\n",
              "      --disabled-bg-color: #3B4455;\n",
              "      --disabled-fill-color: #666;\n",
              "  }\n",
              "\n",
              "  .colab-df-quickchart {\n",
              "    background-color: var(--bg-color);\n",
              "    border: none;\n",
              "    border-radius: 50%;\n",
              "    cursor: pointer;\n",
              "    display: none;\n",
              "    fill: var(--fill-color);\n",
              "    height: 32px;\n",
              "    padding: 0;\n",
              "    width: 32px;\n",
              "  }\n",
              "\n",
              "  .colab-df-quickchart:hover {\n",
              "    background-color: var(--hover-bg-color);\n",
              "    box-shadow: 0 1px 2px rgba(60, 64, 67, 0.3), 0 1px 3px 1px rgba(60, 64, 67, 0.15);\n",
              "    fill: var(--button-hover-fill-color);\n",
              "  }\n",
              "\n",
              "  .colab-df-quickchart-complete:disabled,\n",
              "  .colab-df-quickchart-complete:disabled:hover {\n",
              "    background-color: var(--disabled-bg-color);\n",
              "    fill: var(--disabled-fill-color);\n",
              "    box-shadow: none;\n",
              "  }\n",
              "\n",
              "  .colab-df-spinner {\n",
              "    border: 2px solid var(--fill-color);\n",
              "    border-color: transparent;\n",
              "    border-bottom-color: var(--fill-color);\n",
              "    animation:\n",
              "      spin 1s steps(1) infinite;\n",
              "  }\n",
              "\n",
              "  @keyframes spin {\n",
              "    0% {\n",
              "      border-color: transparent;\n",
              "      border-bottom-color: var(--fill-color);\n",
              "      border-left-color: var(--fill-color);\n",
              "    }\n",
              "    20% {\n",
              "      border-color: transparent;\n",
              "      border-left-color: var(--fill-color);\n",
              "      border-top-color: var(--fill-color);\n",
              "    }\n",
              "    30% {\n",
              "      border-color: transparent;\n",
              "      border-left-color: var(--fill-color);\n",
              "      border-top-color: var(--fill-color);\n",
              "      border-right-color: var(--fill-color);\n",
              "    }\n",
              "    40% {\n",
              "      border-color: transparent;\n",
              "      border-right-color: var(--fill-color);\n",
              "      border-top-color: var(--fill-color);\n",
              "    }\n",
              "    60% {\n",
              "      border-color: transparent;\n",
              "      border-right-color: var(--fill-color);\n",
              "    }\n",
              "    80% {\n",
              "      border-color: transparent;\n",
              "      border-right-color: var(--fill-color);\n",
              "      border-bottom-color: var(--fill-color);\n",
              "    }\n",
              "    90% {\n",
              "      border-color: transparent;\n",
              "      border-bottom-color: var(--fill-color);\n",
              "    }\n",
              "  }\n",
              "</style>\n",
              "\n",
              "  <script>\n",
              "    async function quickchart(key) {\n",
              "      const quickchartButtonEl =\n",
              "        document.querySelector('#' + key + ' button');\n",
              "      quickchartButtonEl.disabled = true;  // To prevent multiple clicks.\n",
              "      quickchartButtonEl.classList.add('colab-df-spinner');\n",
              "      try {\n",
              "        const charts = await google.colab.kernel.invokeFunction(\n",
              "            'suggestCharts', [key], {});\n",
              "      } catch (error) {\n",
              "        console.error('Error during call to suggestCharts:', error);\n",
              "      }\n",
              "      quickchartButtonEl.classList.remove('colab-df-spinner');\n",
              "      quickchartButtonEl.classList.add('colab-df-quickchart-complete');\n",
              "    }\n",
              "    (() => {\n",
              "      let quickchartButtonEl =\n",
              "        document.querySelector('#df-36c71b31-1f73-4808-b543-ec36319a665c button');\n",
              "      quickchartButtonEl.style.display =\n",
              "        google.colab.kernel.accessAllowed ? 'block' : 'none';\n",
              "    })();\n",
              "  </script>\n",
              "</div>\n",
              "\n",
              "    </div>\n",
              "  </div>\n"
            ],
            "text/plain": [
              "                                                text  stars  \\\n",
              "0  Hidden treasure! Awesome service, delicious fo...    5.0   \n",
              "1  My family and I have been patients since I  wa...    5.0   \n",
              "2  I rarely get pedicures, but Blue Nail's practi...    5.0   \n",
              "3  We came with a large group, may of the items w...    2.0   \n",
              "4  The view is great from Morgan's Pier. The bart...    2.0   \n",
              "\n",
              "                                      processed_text     class  \n",
              "0  hidden treasure awesome service delicious food...  positive  \n",
              "1  family patients since 5 years old 34 trust qua...  positive  \n",
              "2  rarely get pedicures blue nails practice combi...  positive  \n",
              "3  came large group may items missing menu lobste...  negative  \n",
              "4  view great morgans pier bartenders even good s...  negative  "
            ]
          },
          "execution_count": 8,
          "metadata": {},
          "output_type": "execute_result"
        }
      ],
      "source": [
        "test_data.head()"
      ]
    },
    {
      "cell_type": "markdown",
      "metadata": {
        "id": "PGM3ygaxhRuG"
      },
      "source": [
        "The input of the Transformer model is a fixedlength review sequence where integer numbers represent words. In this part, you need to build vocabulary for the dataset and pad the review data to a fixed length"
      ]
    },
    {
      "cell_type": "code",
      "execution_count": 9,
      "metadata": {
        "id": "p9pQe7w0lTC2"
      },
      "outputs": [],
      "source": [
        "from keras.preprocessing.text import Tokenizer\n",
        "from keras.preprocessing.sequence import pad_sequences"
      ]
    },
    {
      "cell_type": "code",
      "execution_count": 10,
      "metadata": {
        "colab": {
          "base_uri": "https://localhost:8080/"
        },
        "id": "0z6o5atXlXF0",
        "outputId": "48040d1b-a65b-453a-ea59-e2b29011e9f6"
      },
      "outputs": [
        {
          "name": "stdout",
          "output_type": "stream",
          "text": [
            "(113980,)\n"
          ]
        }
      ],
      "source": [
        "# Combine training and testing data for vocabulary creation\n",
        "all_texts = pd.concat([train_data['processed_text'], test_data['processed_text']], axis=0)\n",
        "print(all_texts.shape)\n",
        "# Set the maximum number of words to be included in the vocabulary\n",
        "max_words = 20000  #20k"
      ]
    },
    {
      "cell_type": "code",
      "execution_count": 11,
      "metadata": {
        "id": "XoL23-bflpIi"
      },
      "outputs": [],
      "source": [
        "# Create a tokenizer and fit it on the text data\n",
        "tokenizer = Tokenizer(num_words=max_words, oov_token=\"<OOV>\")\n",
        "tokenizer.fit_on_texts(all_texts)"
      ]
    },
    {
      "cell_type": "code",
      "execution_count": 12,
      "metadata": {
        "id": "pJ0itK7xlrWn"
      },
      "outputs": [],
      "source": [
        "# Convert text data to sequences of integers\n",
        "train_sequences = tokenizer.texts_to_sequences(train_data['processed_text'])\n",
        "test_sequences = tokenizer.texts_to_sequences(test_data['processed_text'])\n",
        "\n",
        "max_length = 300\n",
        "# Pad the sequences to a fixed length\n",
        "train_padded = pad_sequences(train_sequences, maxlen=max_length, padding='post', truncating='post')\n",
        "test_padded = pad_sequences(test_sequences, maxlen=max_length, padding='post', truncating='post')"
      ]
    },
    {
      "cell_type": "code",
      "execution_count": 13,
      "metadata": {
        "colab": {
          "base_uri": "https://localhost:8080/"
        },
        "id": "xQ043VA4l8G2",
        "outputId": "a42aac6b-8cce-4083-ffdd-8f77c15c1880"
      },
      "outputs": [
        {
          "name": "stdout",
          "output_type": "stream",
          "text": [
            "(100000, 300)\n",
            "(100000,)\n",
            "{'negative': 23263, 'neutral': 9858, 'positive': 66879}\n"
          ]
        }
      ],
      "source": [
        "print(train_padded.shape)\n",
        "print(train_data['class'].shape)\n",
        "\n",
        "class_counts = dict(zip(*np.unique(train_data['class'], return_counts=True)))\n",
        "print(class_counts)"
      ]
    },
    {
      "cell_type": "markdown",
      "metadata": {
        "id": "ssT503zHmF44"
      },
      "source": [
        "Implement a Transformer model which is composed of an encoder network (i.e., multi-head self-attention layers) and a prediction head mapping the hidden representation of input sequence into the label space (i.e., three classes)"
      ]
    },
    {
      "cell_type": "code",
      "execution_count": 14,
      "metadata": {
        "colab": {
          "base_uri": "https://localhost:8080/"
        },
        "id": "ELMknisOy0fC",
        "outputId": "f4d2abd4-4345-4340-ca41-810b15b4533e"
      },
      "outputs": [
        {
          "name": "stdout",
          "output_type": "stream",
          "text": [
            "TransformerSentimentModel(\n",
            "  (embedding): PositionalEmbedding(\n",
            "    (token_embeddings): Embedding(20000, 256)\n",
            "    (position_embeddings): Embedding(300, 256)\n",
            "  )\n",
            "  (encoder): TransformerEncoderLayer(\n",
            "    (attention): MultiheadAttention(\n",
            "      (out_proj): NonDynamicallyQuantizableLinear(in_features=256, out_features=256, bias=True)\n",
            "    )\n",
            "    (dropout_1): Dropout(p=0.01, inplace=False)\n",
            "    (dense_proj): Sequential(\n",
            "      (0): Linear(in_features=256, out_features=32, bias=True)\n",
            "      (1): ReLU()\n",
            "      (2): Linear(in_features=32, out_features=256, bias=True)\n",
            "    )\n",
            "    (dropout_2): Dropout(p=0.01, inplace=False)\n",
            "    (layernorm_1): LayerNorm((256,), eps=1e-05, elementwise_affine=True)\n",
            "    (layernorm_2): LayerNorm((256,), eps=1e-05, elementwise_affine=True)\n",
            "  )\n",
            "  (global_avg_pooling): AdaptiveAvgPool1d(output_size=1)\n",
            "  (fc): Linear(in_features=256, out_features=3, bias=True)\n",
            "  (dropout): Dropout(p=0.01, inplace=False)\n",
            ")\n"
          ]
        }
      ],
      "source": [
        "class TransformerEncoderLayer(nn.Module):\n",
        "    def __init__(self, embed_dim, dense_dim, num_heads, dropout= 0.01):\n",
        "        super(TransformerEncoderLayer, self).__init__()\n",
        "        self.attention = nn.MultiheadAttention(embed_dim, num_heads, dropout=dropout)\n",
        "        self.dropout_1 = nn.Dropout(dropout)\n",
        "        self.dense_proj = nn.Sequential(\n",
        "            nn.Linear(embed_dim, dense_dim),\n",
        "            nn.ReLU(),\n",
        "            nn.Linear(dense_dim, embed_dim)\n",
        "        )\n",
        "        self.dropout_2 = nn.Dropout(dropout)\n",
        "        self.layernorm_1 = nn.LayerNorm(embed_dim)\n",
        "        self.layernorm_2 = nn.LayerNorm(embed_dim)\n",
        "\n",
        "    def forward(self, inputs, mask=None):\n",
        "        attention_output, _ = self.attention(inputs, inputs, inputs, key_padding_mask=mask)\n",
        "        x = inputs + self.dropout_1(attention_output)\n",
        "        x = self.layernorm_1(x)\n",
        "\n",
        "        proj_input = x\n",
        "        proj_output = self.dense_proj(x)\n",
        "        x = proj_input + self.dropout_2(proj_output)\n",
        "        x = self.layernorm_2(x)\n",
        "\n",
        "        return x\n",
        "\n",
        "class PositionalEmbedding(nn.Module):\n",
        "    def __init__(self, sequence_length, input_dim, output_dim):\n",
        "        super(PositionalEmbedding, self).__init__()\n",
        "        self.token_embeddings = nn.Embedding(input_dim, output_dim)\n",
        "        self.position_embeddings = nn.Embedding(sequence_length, output_dim)\n",
        "\n",
        "    def forward(self, inputs):\n",
        "        positions = torch.arange(0, inputs.size(-1)).unsqueeze(0).to(inputs.device)\n",
        "        embedded_tokens = self.token_embeddings(inputs)\n",
        "        embedded_positions = self.position_embeddings(positions)\n",
        "        return embedded_tokens + embedded_positions\n",
        "\n",
        "class TransformerSentimentModel(nn.Module):\n",
        "    def __init__(self, vocab_size, sequence_length, embed_dim, num_heads, dense_dim, dropout=0.01):\n",
        "        super(TransformerSentimentModel, self).__init__()\n",
        "        self.embedding = PositionalEmbedding(sequence_length, vocab_size, embed_dim)\n",
        "        self.encoder = TransformerEncoderLayer(embed_dim, dense_dim, num_heads, dropout)\n",
        "        self.global_avg_pooling = nn.AdaptiveAvgPool1d(1)\n",
        "        self.fc = nn.Linear(embed_dim, 3)\n",
        "        self.dropout = nn.Dropout(dropout)\n",
        "\n",
        "    def forward(self, x):\n",
        "        x = self.embedding(x)\n",
        "        x = self.encoder(x)\n",
        "        x = self.global_avg_pooling(x.permute(0, 2, 1))\n",
        "        x = x.view(x.size(0), -1)\n",
        "        x = self.dropout(x)\n",
        "        x = self.fc(x)\n",
        "        # return torch.softmax(x, dim=1)\n",
        "        return x\n",
        "\n",
        "# Instantiate the model with dropout\n",
        "vocab_size = 20000\n",
        "sequence_length = 300\n",
        "embed_dim = 256\n",
        "num_heads = 2\n",
        "dense_dim = 32\n",
        "\n",
        "model = TransformerSentimentModel(vocab_size, sequence_length, embed_dim, num_heads, dense_dim)\n",
        "print(model)\n",
        "\n",
        "# Define loss and optimizer\n",
        "criterion = nn.CrossEntropyLoss()\n",
        "optimizer = optim.SGD(model.parameters(), lr=0.001, momentum=0.9)"
      ]
    },
    {
      "cell_type": "code",
      "execution_count": 15,
      "metadata": {
        "colab": {
          "base_uri": "https://localhost:8080/",
          "height": 946
        },
        "id": "skivyYh0Jdxg",
        "outputId": "c0acd40b-75d9-412f-ae0f-551be13491ec"
      },
      "outputs": [
        {
          "name": "stdout",
          "output_type": "stream",
          "text": [
            "Epoch [1/8], Train Accuracy: 0.7638, Validation Accuracy: 0.7861\n",
            "Epoch [2/8], Train Accuracy: 0.8100, Validation Accuracy: 0.8143\n",
            "Epoch [3/8], Train Accuracy: 0.8210, Validation Accuracy: 0.8224\n",
            "Epoch [4/8], Train Accuracy: 0.8273, Validation Accuracy: 0.8223\n",
            "Epoch [5/8], Train Accuracy: 0.8311, Validation Accuracy: 0.8230\n",
            "Epoch [6/8], Train Accuracy: 0.8338, Validation Accuracy: 0.8281\n",
            "Epoch [7/8], Train Accuracy: 0.8336, Validation Accuracy: 0.8282\n",
            "Epoch [8/8], Train Accuracy: 0.8347, Validation Accuracy: 0.8283\n"
          ]
        },
        {
          "data": {
            "image/png": "[encoded data removed]",
            "text/plain": [
              "<Figure size 1000x800 with 2 Axes>"
            ]
          },
          "metadata": {},
          "output_type": "display_data"
        }
      ],
      "source": [
        "# Assuming you have 'train_padded' and 'train_data['class']' from the preprocessing steps\n",
        "X_train, X_val, y_train, y_val = train_test_split(train_padded, train_data['class'], test_size=0.2, random_state=42)\n",
        "\n",
        "# Convert data to PyTorch tensors\n",
        "X_train_tensor = torch.tensor(X_train, dtype=torch.long)\n",
        "y_train_tensor = torch.tensor(np.array(pd.get_dummies(y_train)), dtype=torch.float32)  # One-hot encode labels\n",
        "\n",
        "X_val_tensor = torch.tensor(X_val, dtype=torch.long)\n",
        "y_val_tensor = torch.tensor(np.array(pd.get_dummies(y_val)), dtype=torch.float32)\n",
        "\n",
        "# Create DataLoader for training and validation\n",
        "train_dataset = TensorDataset(X_train_tensor, y_train_tensor)\n",
        "val_dataset = TensorDataset(X_val_tensor, y_val_tensor)\n",
        "\n",
        "batch_size = 32\n",
        "train_loader = DataLoader(train_dataset, batch_size=batch_size, shuffle=True)\n",
        "val_loader = DataLoader(val_dataset, batch_size=batch_size, shuffle=False)\n",
        "\n",
        "# Training loop\n",
        "num_epochs = 8\n",
        "best_val_accuracy = 0.0\n",
        "best_model = None\n",
        "train_accuracy_history = []\n",
        "val_accuracy_history = []\n",
        "\n",
        "for epoch in range(num_epochs):\n",
        "    model.train()\n",
        "    total_correct = 0\n",
        "    total_samples = 0\n",
        "\n",
        "    for inputs, labels in train_loader:\n",
        "        optimizer.zero_grad()\n",
        "        outputs = model(inputs)\n",
        "        loss = criterion(outputs, torch.argmax(labels, dim=1))\n",
        "        loss.backward()\n",
        "        optimizer.step()\n",
        "\n",
        "        # Calculate training accuracy\n",
        "        _, predicted = torch.max(outputs, 1)\n",
        "        total_samples += labels.size(0)\n",
        "        total_correct += (predicted == torch.argmax(labels, dim=1)).sum().item()\n",
        "\n",
        "    train_accuracy = total_correct / total_samples\n",
        "    train_accuracy_history.append(train_accuracy)\n",
        "\n",
        "    # Validation\n",
        "    model.eval()\n",
        "    val_correct = 0\n",
        "    val_samples = 0\n",
        "\n",
        "    with torch.no_grad():\n",
        "        for val_inputs, val_labels in val_loader:\n",
        "            val_outputs = model(val_inputs)\n",
        "            _, val_predicted = torch.max(val_outputs, 1)\n",
        "            val_samples += val_labels.size(0)\n",
        "            val_correct += (val_predicted == torch.argmax(val_labels, dim=1)).sum().item()\n",
        "\n",
        "    val_accuracy = val_correct / val_samples\n",
        "    val_accuracy_history.append(val_accuracy)\n",
        "\n",
        "    print(f'Epoch [{epoch + 1}/{num_epochs}], Train Accuracy: {train_accuracy:.4f}, Validation Accuracy: {val_accuracy:.4f}')\n",
        "\n",
        "    # Save the best model\n",
        "    if val_accuracy > best_val_accuracy:\n",
        "        best_val_accuracy = val_accuracy\n",
        "        best_model = model.state_dict()\n",
        "\n",
        "# Print the training curve\n",
        "import matplotlib.pyplot as plt\n",
        "\n",
        "# Create two separate subplots\n",
        "fig, (ax1, ax2) = plt.subplots(2, 1, figsize=(10, 8))\n",
        "\n",
        "# Plot Training Accuracy\n",
        "ax1.plot(range(1, num_epochs + 1), train_accuracy_history, label='Training Accuracy')\n",
        "ax1.set_xlabel('Epochs')\n",
        "ax1.set_ylabel('Accuracy')\n",
        "ax1.set_title('Training Accuracy Curve')\n",
        "ax1.legend()\n",
        "\n",
        "# Plot Validation Accuracy\n",
        "ax2.plot(range(1, num_epochs + 1), val_accuracy_history, label='Validation Accuracy', color='orange')\n",
        "ax2.set_xlabel('Epochs')\n",
        "ax2.set_ylabel('Accuracy')\n",
        "ax2.set_title('Validation Accuracy Curve')\n",
        "ax2.legend()\n",
        "\n",
        "# Adjust layout\n",
        "plt.tight_layout()\n",
        "plt.show()"
      ]
    },
    {
      "cell_type": "markdown",
      "metadata": {
        "id": "Kwfh8oPhrGgG"
      },
      "source": [
        "Training model by changing some parameters like num_heads, epochs and learning rate (Just a testing model to check on hyper-parameter tuning)."
      ]
    },
    {
      "cell_type": "code",
      "execution_count": 24,
      "metadata": {
        "colab": {
          "base_uri": "https://localhost:8080/"
        },
        "id": "SCzlJvImnPoY",
        "outputId": "839fa219-bc14-42a2-d4bf-3ddb59f70613"
      },
      "outputs": [
        {
          "name": "stdout",
          "output_type": "stream",
          "text": [
            "TransformerSentimentModel(\n",
            "  (embedding): PositionalEmbedding(\n",
            "    (token_embeddings): Embedding(20000, 32)\n",
            "    (position_embeddings): Embedding(300, 32)\n",
            "  )\n",
            "  (encoder): TransformerEncoderLayer(\n",
            "    (attention): MultiheadAttention(\n",
            "      (out_proj): NonDynamicallyQuantizableLinear(in_features=32, out_features=32, bias=True)\n",
            "    )\n",
            "    (dropout_1): Dropout(p=0.01, inplace=False)\n",
            "    (dense_proj): Sequential(\n",
            "      (0): Linear(in_features=32, out_features=16, bias=True)\n",
            "      (1): ReLU()\n",
            "      (2): Linear(in_features=16, out_features=32, bias=True)\n",
            "    )\n",
            "    (dropout_2): Dropout(p=0.01, inplace=False)\n",
            "    (layernorm_1): LayerNorm((32,), eps=1e-05, elementwise_affine=True)\n",
            "    (layernorm_2): LayerNorm((32,), eps=1e-05, elementwise_affine=True)\n",
            "  )\n",
            "  (global_avg_pooling): AdaptiveAvgPool1d(output_size=1)\n",
            "  (fc): Linear(in_features=32, out_features=3, bias=True)\n",
            "  (dropout): Dropout(p=0.01, inplace=False)\n",
            ")\n",
            "Epoch [1/4], Train Accuracy: 0.6689, Validation Accuracy: 0.6710\n",
            "Epoch [2/4], Train Accuracy: 0.6692, Validation Accuracy: 0.6704\n",
            "Epoch [3/4], Train Accuracy: 0.6686, Validation Accuracy: 0.6705\n",
            "Epoch [4/4], Train Accuracy: 0.6688, Validation Accuracy: 0.6708\n"
          ]
        }
      ],
      "source": [
        "# Instantiate the model1 with dropout\n",
        "vocab_size = 20000\n",
        "sequence_length = 300\n",
        "embed_dim = 32\n",
        "num_heads1 = 4\n",
        "dense_dim = 16\n",
        "\n",
        "model1 = TransformerSentimentModel(vocab_size, sequence_length, embed_dim, num_heads1, dense_dim)\n",
        "print(model1)\n",
        "\n",
        "# Define loss and optimizer\n",
        "criterion1 = nn.CrossEntropyLoss()\n",
        "optimizer1 = optim.SGD(model1.parameters(), lr=0.01, momentum=0.9)\n",
        "\n",
        "\n",
        "# Training loop\n",
        "num_epochs1 = 4\n",
        "best_val_accuracy1 = 0.0\n",
        "best_model1 = None\n",
        "train_accuracy_history1 = []\n",
        "val_accuracy_history1 = []\n",
        "\n",
        "for epoch in range(num_epochs1):\n",
        "    model1.train()\n",
        "    total_correct1 = 0\n",
        "    total_samples1 = 0\n",
        "\n",
        "    for inputs, labels in train_loader:\n",
        "        optimizer1.zero_grad()\n",
        "        outputs = model1(inputs)\n",
        "        loss = criterion1(outputs, torch.argmax(labels, dim=1))\n",
        "        loss.backward()\n",
        "        optimizer1.step()\n",
        "\n",
        "        # Calculate training accuracy\n",
        "        _, predicted = torch.max(outputs, 1)\n",
        "        total_samples1 += labels.size(0)\n",
        "        total_correct1 += (predicted == torch.argmax(labels, dim=1)).sum().item()\n",
        "\n",
        "    train_accuracy1 = total_correct1 / total_samples1\n",
        "    train_accuracy_history1.append(train_accuracy1)\n",
        "\n",
        "    # Validation\n",
        "    model1.eval()\n",
        "    val_correct1 = 0\n",
        "    val_samples1 = 0\n",
        "\n",
        "    with torch.no_grad():\n",
        "        for val_inputs, val_labels in val_loader:\n",
        "            val_outputs = model1(val_inputs)\n",
        "            _, val_predicted = torch.max(val_outputs, 1)\n",
        "            val_samples1 += val_labels.size(0)\n",
        "            val_correct1 += (val_predicted == torch.argmax(val_labels, dim=1)).sum().item()\n",
        "\n",
        "    val_accuracy1 = val_correct1 / val_samples1\n",
        "    val_accuracy_history1.append(val_accuracy1)\n",
        "\n",
        "    print(f'Epoch [{epoch + 1}/{num_epochs1}], Train Accuracy: {train_accuracy1:.4f}, Validation Accuracy: {val_accuracy1:.4f}')\n",
        "\n",
        "    # Save the best model\n",
        "    if val_accuracy1 > best_val_accuracy1:\n",
        "        best_val_accuracy1 = val_accuracy1\n",
        "        best_model1 = model1.state_dict()"
      ]
    },
    {
      "cell_type": "markdown",
      "metadata": {
        "id": "kgdTkOpwiscJ"
      },
      "source": [
        "Load the best model saved during training and report the\n",
        "accuracy of the model on the test set (i.e., ‘yelp review test.csv’). What are the impacts of hyper-parameters, such as the hidden dimension and the number of attention layers, on the transformer"
      ]
    },
    {
      "cell_type": "code",
      "execution_count": 16,
      "metadata": {
        "colab": {
          "base_uri": "https://localhost:8080/"
        },
        "id": "ZojJAgsmKPWS",
        "outputId": "2300dbb9-e98b-4e76-a347-6109411a464f"
      },
      "outputs": [
        {
          "name": "stdout",
          "output_type": "stream",
          "text": [
            "{'negative': 3145, 'neutral': 1416, 'positive': 9419}\n"
          ]
        }
      ],
      "source": [
        "class_count = dict(zip(*np.unique(test_data['class'], return_counts=True)))\n",
        "print(class_count)"
      ]
    },
    {
      "cell_type": "code",
      "execution_count": 17,
      "metadata": {
        "colab": {
          "base_uri": "https://localhost:8080/"
        },
        "id": "0VHiNDmmaOyG",
        "outputId": "f06e0928-9399-4c51-95a4-5b7303671460"
      },
      "outputs": [
        {
          "name": "stdout",
          "output_type": "stream",
          "text": [
            "Test Accuracy: 0.8211\n"
          ]
        }
      ],
      "source": [
        "# Convert data to PyTorch tensors\n",
        "X_test_tensor = torch.tensor(test_padded, dtype=torch.long)\n",
        "y_test_tensor = torch.tensor(np.array(pd.get_dummies(test_data['class'])), dtype=torch.float32)  # One-hot encode labels\n",
        "\n",
        "# Create DataLoader for testing\n",
        "test_dataset = TensorDataset(X_test_tensor, y_test_tensor)\n",
        "test_loader = DataLoader(test_dataset, batch_size=batch_size, shuffle=False)\n",
        "\n",
        "# Load the best model\n",
        "model.load_state_dict(best_model)\n",
        "\n",
        "model.eval()\n",
        "test_correct = 0\n",
        "test_samples = 0\n",
        "pred = []\n",
        "true_values = []\n",
        "\n",
        "with torch.no_grad():\n",
        "    for test_inputs, test_labels in test_loader:\n",
        "        test_outputs = model(test_inputs)\n",
        "        _, test_predicted = torch.max(test_outputs, 1)\n",
        "        pred.extend(test_predicted)\n",
        "        true_values.extend(test_labels)\n",
        "        test_samples += test_labels.size(0)\n",
        "        test_correct += (test_predicted == torch.argmax(test_labels, dim=1)).sum().item()\n",
        "\n",
        "test_accuracy = test_correct / test_samples\n",
        "print(f'Test Accuracy: {test_accuracy:.4f}')\n",
        "predicted_values = torch.stack(pred).cpu()\n",
        "actual_values = torch.stack(true_values).cpu()"
      ]
    },
    {
      "cell_type": "code",
      "execution_count": 19,
      "metadata": {
        "colab": {
          "base_uri": "https://localhost:8080/"
        },
        "id": "93Z1ozemCIxZ",
        "outputId": "a5960299-bc22-47f7-9533-112eb96b4a8e"
      },
      "outputs": [
        {
          "data": {
            "text/plain": [
              "tensor([2, 2, 2,  ..., 2, 0, 2])"
            ]
          },
          "execution_count": 19,
          "metadata": {},
          "output_type": "execute_result"
        }
      ],
      "source": [
        "predicted_values\n",
        "actual_labels = torch.argmax(actual_values, dim=1)\n",
        "actual_labels"
      ]
    },
    {
      "cell_type": "code",
      "execution_count": 20,
      "metadata": {
        "colab": {
          "base_uri": "https://localhost:8080/"
        },
        "id": "JJ50QryaySxT",
        "outputId": "96a200aa-8ec7-480a-e2c0-17cb7096af78"
      },
      "outputs": [
        {
          "name": "stdout",
          "output_type": "stream",
          "text": [
            "              precision    recall  f1-score   support\n",
            "\n",
            "    Negative       0.70      0.85      0.77      3145\n",
            "     Neutral       0.22      0.02      0.04      1416\n",
            "    Positive       0.87      0.93      0.90      9419\n",
            "\n",
            "    accuracy                           0.82     13980\n",
            "   macro avg       0.60      0.60      0.57     13980\n",
            "weighted avg       0.77      0.82      0.78     13980\n",
            "\n"
          ]
        }
      ],
      "source": [
        "from sklearn.metrics import classification_report, confusion_matrix\n",
        "class_name = ['Negative', 'Neutral', 'Positive']\n",
        "print(classification_report(actual_labels, predicted_values, target_names = class_name))"
      ]
    },
    {
      "cell_type": "code",
      "execution_count": 21,
      "metadata": {
        "colab": {
          "base_uri": "https://localhost:8080/",
          "height": 479
        },
        "id": "kV4QF6r493VW",
        "outputId": "95d075f4-5e09-41f1-861c-0a40dede89b7"
      },
      "outputs": [
        {
          "data": {
            "image/png": "[encoded data removed]",
            "text/plain": [
              "<Figure size 640x480 with 2 Axes>"
            ]
          },
          "metadata": {},
          "output_type": "display_data"
        }
      ],
      "source": [
        "import seaborn as sns\n",
        "def conf_matrix(conf_matrix):\n",
        "  hmap = sns.heatmap(conf_matrix, annot = True, fmt=\"d\", cmap=\"Blues\")\n",
        "  hmap.yaxis.set_ticklabels(hmap.yaxis.get_ticklabels(), rotation = 0, ha = 'right')\n",
        "  hmap.xaxis.set_ticklabels(hmap.yaxis.get_ticklabels(), rotation = 30, ha = 'right')\n",
        "  plt.ylabel('Actual sentiment classification')\n",
        "  plt.xlabel('Predicted sentiment classification')\n",
        "conf_mat = confusion_matrix(actual_labels, predicted_values)\n",
        "cm = pd.DataFrame(conf_mat, index = class_name, columns = class_name)\n",
        "conf_matrix(cm)"
      ]
    },
    {
      "cell_type": "markdown",
      "metadata": {
        "id": "NsThe-hzats6"
      },
      "source": [
        "Based on my observations, particularly with the best model ('model'), and comparing it with the second model ('model1'), where adjustments were made to the number of embedded dimensions, attention layers in the multihead attention layer, and the number of epochs, a noteworthy pattern emerged. The 'model1' exhibited low training accuracy and validation accuarcy indicating that the model is not good at classification. Additionally, it was observed that increasing the dataset size had a positive impact on model accuracy. The correlation between a larger dataset and improved model accuracy suggests that the model benefits from exposure to a richer and more diverse set of examples during training, enhancing its ability to generalize.\n",
        "\n",
        "We can conclude that a higher hidden dimension enhances the model's capacity to capture intricate patterns but comes with increased computational costs and adjusting the number of attention layers (num_heads) affects the model's ability to capture diverse dependencies in the input sequence. More attention layers provide increased expressiveness but also introduce higher computational complexity, acting as a form of regularization against overfitting."
      ]
    }
  ],
  "metadata": {
    "accelerator": "GPU",
    "colab": {
      "gpuType": "T4",
      "provenance": []
    },
    "kernelspec": {
      "display_name": "Python 3",
      "name": "python3"
    },
    "language_info": {
      "name": "python"
    }
  },
  "nbformat": 4,
  "nbformat_minor": 0
}
